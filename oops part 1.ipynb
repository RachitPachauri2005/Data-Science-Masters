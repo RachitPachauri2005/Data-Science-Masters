{
 "cells": [
  {
   "cell_type": "markdown",
   "id": "52b4e68d-1f1a-494a-b306-840e805e9e8c",
   "metadata": {},
   "source": [
    "## \"Oops\" stands for Object-Oriented Programming System"
   ]
  },
  {
   "cell_type": "code",
   "execution_count": 1,
   "id": "4ffa40b2-b658-4963-b0a1-9a4d0001552a",
   "metadata": {},
   "outputs": [],
   "source": [
    "a=1"
   ]
  },
  {
   "cell_type": "code",
   "execution_count": 2,
   "id": "47e2ed31-399d-426a-8582-34af4173ba5a",
   "metadata": {},
   "outputs": [
    {
     "name": "stdout",
     "output_type": "stream",
     "text": [
      "<class 'int'>\n"
     ]
    }
   ],
   "source": [
    "print(type(a))"
   ]
  },
  {
   "cell_type": "code",
   "execution_count": 3,
   "id": "9a3bd4d7-8bd5-4c33-a9da-c360c008fb52",
   "metadata": {},
   "outputs": [
    {
     "name": "stdout",
     "output_type": "stream",
     "text": [
      "<class 'str'>\n"
     ]
    }
   ],
   "source": [
    "print(type(\"pwskills\"))"
   ]
  },
  {
   "cell_type": "code",
   "execution_count": 4,
   "id": "d087a311-19af-4ac5-a751-e9f18d6fc73a",
   "metadata": {},
   "outputs": [],
   "source": [
    "class test:\n",
    "    pass"
   ]
  },
  {
   "cell_type": "code",
   "execution_count": 5,
   "id": "e81058a1-1052-46c1-bf24-cf3d070363e3",
   "metadata": {},
   "outputs": [],
   "source": [
    "a = test()"
   ]
  },
  {
   "cell_type": "code",
   "execution_count": 6,
   "id": "f60a863b-1444-4e93-af41-05cbe4c1ca12",
   "metadata": {},
   "outputs": [
    {
     "data": {
      "text/plain": [
       "__main__.test"
      ]
     },
     "execution_count": 6,
     "metadata": {},
     "output_type": "execute_result"
    }
   ],
   "source": [
    "type(a)"
   ]
  },
  {
   "cell_type": "code",
   "execution_count": 7,
   "id": "c539696f-8907-47a0-992a-57022799d485",
   "metadata": {},
   "outputs": [
    {
     "name": "stdout",
     "output_type": "stream",
     "text": [
      "<class '__main__.test'>\n"
     ]
    }
   ],
   "source": [
    "print(type(a))"
   ]
  },
  {
   "cell_type": "code",
   "execution_count": 16,
   "id": "1bfbaa4a-dfe3-4ee0-88a6-9fff0f64cde2",
   "metadata": {},
   "outputs": [],
   "source": [
    "class pwskills:\n",
    "    def welcome_msg(self):\n",
    "        print(\"welcome to pwskills\")"
   ]
  },
  {
   "cell_type": "code",
   "execution_count": 17,
   "id": "abc3c290-3c63-419e-a15b-28ca4d901223",
   "metadata": {},
   "outputs": [],
   "source": [
    "rohan = pwskills()"
   ]
  },
  {
   "cell_type": "code",
   "execution_count": 18,
   "id": "c6ed736f-f47d-4500-8113-4414a1c18e76",
   "metadata": {},
   "outputs": [
    {
     "name": "stdout",
     "output_type": "stream",
     "text": [
      "<class '__main__.pwskills'>\n"
     ]
    }
   ],
   "source": [
    "print(type(rohan))"
   ]
  },
  {
   "cell_type": "code",
   "execution_count": 19,
   "id": "205238f6-6ec9-409d-b369-de52e4809e2a",
   "metadata": {},
   "outputs": [
    {
     "name": "stdout",
     "output_type": "stream",
     "text": [
      "welcome to pwskills\n"
     ]
    }
   ],
   "source": [
    "rohan.welcome_msg()"
   ]
  },
  {
   "cell_type": "code",
   "execution_count": 20,
   "id": "7b201bfe-9043-4be1-981e-94d63524ad1e",
   "metadata": {},
   "outputs": [],
   "source": [
    "gaurav = pwskills()"
   ]
  },
  {
   "cell_type": "code",
   "execution_count": 21,
   "id": "83dc5554-7626-4d8d-937b-63f941047f70",
   "metadata": {},
   "outputs": [
    {
     "name": "stdout",
     "output_type": "stream",
     "text": [
      "welcome to pwskills\n"
     ]
    }
   ],
   "source": [
    "gaurav.welcome_msg()"
   ]
  },
  {
   "cell_type": "code",
   "execution_count": 31,
   "id": "7734c7b0-f194-41b0-bbe5-c2e36e930998",
   "metadata": {},
   "outputs": [],
   "source": [
    "class pwskills1():\n",
    "    \n",
    "    \n",
    "    \n",
    "    def __init__(self,phone_number,email_id,student_id):\n",
    "        self.phone_number=phone_number\n",
    "        self.email_id = email_id\n",
    "        self.student_id=student_id\n",
    "        \n",
    "        \n",
    "    def return_student_details(self):\n",
    "        return self.student_id,self.phone_number,self.email_id"
   ]
  },
  {
   "cell_type": "code",
   "execution_count": 32,
   "id": "da4e7620-f0c4-43ac-9f82-a0a09732a166",
   "metadata": {},
   "outputs": [
    {
     "ename": "TypeError",
     "evalue": "pwskills1.__init__() missing 3 required positional arguments: 'phone_number', 'email_id', and 'student_id'",
     "output_type": "error",
     "traceback": [
      "\u001b[0;31m---------------------------------------------------------------------------\u001b[0m",
      "\u001b[0;31mTypeError\u001b[0m                                 Traceback (most recent call last)",
      "Cell \u001b[0;32mIn[32], line 1\u001b[0m\n\u001b[0;32m----> 1\u001b[0m rohan\u001b[38;5;241m=\u001b[39m\u001b[43mpwskills1\u001b[49m\u001b[43m(\u001b[49m\u001b[43m)\u001b[49m\n",
      "\u001b[0;31mTypeError\u001b[0m: pwskills1.__init__() missing 3 required positional arguments: 'phone_number', 'email_id', and 'student_id'"
     ]
    }
   ],
   "source": [
    "rohan=pwskills1()"
   ]
  },
  {
   "cell_type": "code",
   "execution_count": 34,
   "id": "cc9893f6-653b-4ce2-ab77-7319d14d2576",
   "metadata": {},
   "outputs": [],
   "source": [
    "rohan=pwskills1(1222345695959,\"rohan@gmail.com\",101)"
   ]
  },
  {
   "cell_type": "code",
   "execution_count": 35,
   "id": "1fb5e9be-17a2-4c55-a5ac-0b27e61cddb7",
   "metadata": {},
   "outputs": [
    {
     "data": {
      "text/plain": [
       "(101, 1222345695959, 'rohan@gmail.com')"
      ]
     },
     "execution_count": 35,
     "metadata": {},
     "output_type": "execute_result"
    }
   ],
   "source": [
    "rohan.return_student_details()"
   ]
  },
  {
   "cell_type": "code",
   "execution_count": 47,
   "id": "5c031d6b-1ddb-4efe-b7ab-077770c36ead",
   "metadata": {},
   "outputs": [
    {
     "data": {
      "text/plain": [
       "1222345695959"
      ]
     },
     "execution_count": 47,
     "metadata": {},
     "output_type": "execute_result"
    }
   ],
   "source": [
    "rohan.phone_number"
   ]
  },
  {
   "cell_type": "code",
   "execution_count": 48,
   "id": "37ecbd57-ecfa-47dd-ae1b-f06750a85d25",
   "metadata": {},
   "outputs": [
    {
     "data": {
      "text/plain": [
       "'rohan@gmail.com'"
      ]
     },
     "execution_count": 48,
     "metadata": {},
     "output_type": "execute_result"
    }
   ],
   "source": [
    "rohan.email_id"
   ]
  },
  {
   "cell_type": "code",
   "execution_count": 49,
   "id": "f8f4ed82-652f-49a2-be64-df3a47bcc4a1",
   "metadata": {},
   "outputs": [
    {
     "data": {
      "text/plain": [
       "101"
      ]
     },
     "execution_count": 49,
     "metadata": {},
     "output_type": "execute_result"
    }
   ],
   "source": [
    "rohan.student_id"
   ]
  },
  {
   "cell_type": "code",
   "execution_count": 38,
   "id": "5f61856d-a4e0-4665-8bef-ac45a00ce020",
   "metadata": {},
   "outputs": [],
   "source": [
    "gaurav=pwskills1(1234567893,\"gaurav@gmail.com\",102)"
   ]
  },
  {
   "cell_type": "code",
   "execution_count": 39,
   "id": "3b05d987-4992-498a-8c5f-2921c632a2ef",
   "metadata": {},
   "outputs": [
    {
     "data": {
      "text/plain": [
       "(102, 1234567893, 'gaurav@gmail.com')"
      ]
     },
     "execution_count": 39,
     "metadata": {},
     "output_type": "execute_result"
    }
   ],
   "source": [
    "gaurav.return_student_details()"
   ]
  },
  {
   "cell_type": "code",
   "execution_count": 56,
   "id": "517d0bfe-f5bc-4094-8f92-fcdb284efc73",
   "metadata": {},
   "outputs": [],
   "source": [
    "class pwskills2():\n",
    "    \n",
    "    \n",
    "    \n",
    "    def __init__(self,phone_number,email_id,student_id):\n",
    "        self.phone_number1=phone_number\n",
    "        self.email_id1 = email_id\n",
    "        self.student_id1=student_id\n",
    "        \n",
    "        \n",
    "    def return_student_details(self):\n",
    "        return self.student_id1,self.phone_number1,self.email_id1"
   ]
  },
  {
   "cell_type": "code",
   "execution_count": 57,
   "id": "0dde28fc-6801-4204-a3c5-34390c4a1ffb",
   "metadata": {},
   "outputs": [],
   "source": [
    "sudh=pwskills2(9999954556,\"sudh@gmail.com\",103)"
   ]
  },
  {
   "cell_type": "code",
   "execution_count": 51,
   "id": "d3ac68bd-eb77-4c2e-ba57-bc86314caddc",
   "metadata": {},
   "outputs": [
    {
     "data": {
      "text/plain": [
       "9999954556"
      ]
     },
     "execution_count": 51,
     "metadata": {},
     "output_type": "execute_result"
    }
   ],
   "source": [
    "sudh.phone_number1"
   ]
  },
  {
   "cell_type": "code",
   "execution_count": 58,
   "id": "5abb8854-26c8-441b-afa1-be827fb04588",
   "metadata": {},
   "outputs": [
    {
     "data": {
      "text/plain": [
       "(103, 9999954556, 'sudh@gmail.com')"
      ]
     },
     "execution_count": 58,
     "metadata": {},
     "output_type": "execute_result"
    }
   ],
   "source": [
    "sudh.return_student_details()"
   ]
  },
  {
   "cell_type": "code",
   "execution_count": 59,
   "id": "583e213b-8ccb-43f1-81b1-248ff77dd45e",
   "metadata": {},
   "outputs": [],
   "source": [
    "class pwskills2():\n",
    "    \n",
    "    \n",
    "    \n",
    "    def __init__(sudh,phone_number,email_id,student_id):\n",
    "        sudh.phone_number1=phone_number\n",
    "        sudh.email_id1 = email_id\n",
    "        sudh.student_id1=student_id\n",
    "        \n",
    "        \n",
    "    def return_student_details(sudh):\n",
    "        return sudh.student_id1,sudh.phone_number1,sudh.email_id1"
   ]
  },
  {
   "cell_type": "code",
   "execution_count": 60,
   "id": "6710dfe5-ceed-4cdb-8c20-c9296884d08a",
   "metadata": {},
   "outputs": [],
   "source": [
    "rohan = pwskills2(345365,\"rohan@gmail.com\",324)"
   ]
  },
  {
   "cell_type": "code",
   "execution_count": null,
   "id": "b0642c6c-a485-4361-beba-2d85535cc4e5",
   "metadata": {},
   "outputs": [],
   "source": [
    "rohan.phone_numbe"
   ]
  }
 ],
 "metadata": {
  "kernelspec": {
   "display_name": "Python 3 (ipykernel)",
   "language": "python",
   "name": "python3"
  },
  "language_info": {
   "codemirror_mode": {
    "name": "ipython",
    "version": 3
   },
   "file_extension": ".py",
   "mimetype": "text/x-python",
   "name": "python",
   "nbconvert_exporter": "python",
   "pygments_lexer": "ipython3",
   "version": "3.10.8"
  }
 },
 "nbformat": 4,
 "nbformat_minor": 5
}
