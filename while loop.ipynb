{
 "cells": [
  {
   "cell_type": "code",
   "execution_count": 5,
   "id": "2deed682-800c-4b31-8948-36fd53740b1c",
   "metadata": {},
   "outputs": [
    {
     "name": "stdout",
     "output_type": "stream",
     "text": [
      "1\n",
      "2\n",
      "3\n",
      "4\n",
      "5\n",
      "6\n",
      "7\n",
      "8\n",
      "9\n",
      "10\n"
     ]
    }
   ],
   "source": [
    "a = 1\n",
    " \n",
    "while a <=10 :\n",
    "    print(a)\n",
    "    a = a + 1    "
   ]
  },
  {
   "cell_type": "markdown",
   "id": "c472cc9b-f7ff-4164-9db0-6dab410bb145",
   "metadata": {},
   "source": [
    "### sum up the number till some point\n"
   ]
  },
  {
   "cell_type": "code",
   "execution_count": 10,
   "id": "95aa21b6-4d02-49f3-bbcc-56e155fa1d26",
   "metadata": {},
   "outputs": [
    {
     "name": "stdin",
     "output_type": "stream",
     "text": [
      "Enter your limit 5\n"
     ]
    },
    {
     "name": "stdout",
     "output_type": "stream",
     "text": [
      "15\n"
     ]
    }
   ],
   "source": [
    "n  = int(input(\"Enter your limit\"))\n",
    "starting_point = 0\n",
    "counter = 1\n",
    "while counter <= n:\n",
    "    starting_point = starting_point + counter\n",
    "    counter = counter + 1\n",
    "print(starting_point)    \n",
    "    "
   ]
  },
  {
   "cell_type": "code",
   "execution_count": 11,
   "id": "483bc105-ca6a-44cd-801c-315ceea82048",
   "metadata": {},
   "outputs": [
    {
     "name": "stdin",
     "output_type": "stream",
     "text": [
      "Enter your limit 5\n"
     ]
    },
    {
     "name": "stdout",
     "output_type": "stream",
     "text": [
      "120\n"
     ]
    }
   ],
   "source": [
    "n  = int(input(\"Enter your limit\"))\n",
    "starting_point = 1\n",
    "counter = 1\n",
    "while counter <= n:\n",
    "    starting_point = starting_point * counter\n",
    "    counter = counter + 1\n",
    "print(starting_point)   "
   ]
  },
  {
   "cell_type": "markdown",
   "id": "4e73253c-d83c-44ac-bdd4-90f8ddd9e263",
   "metadata": {},
   "source": [
    "## fibonacci series "
   ]
  },
  {
   "cell_type": "code",
   "execution_count": 12,
   "id": "50fb456c-3fc0-4ff8-80f3-dba7838aab77",
   "metadata": {},
   "outputs": [
    {
     "name": "stdin",
     "output_type": "stream",
     "text": [
      "enter the number of element you are looking for  5\n"
     ]
    },
    {
     "name": "stdout",
     "output_type": "stream",
     "text": [
      "0\n",
      "1\n",
      "1\n",
      "2\n",
      "3\n"
     ]
    }
   ],
   "source": [
    "number = int(input(\"enter the number of element you are looking for \"))\n",
    "a,b = 0,1\n",
    "counter = 0\n",
    "while counter < number :\n",
    "    print(a)\n",
    "    c = a + b\n",
    "    a = b\n",
    "    b = c\n",
    "    counter = counter +1"
   ]
  },
  {
   "cell_type": "code",
   "execution_count": 23,
   "id": "d5f4eb3f-e71d-44b3-9a75-91a3f30ce3f1",
   "metadata": {},
   "outputs": [
    {
     "name": "stdout",
     "output_type": "stream",
     "text": [
      "0\n",
      "1\n",
      "1\n",
      "2\n",
      "3\n"
     ]
    }
   ],
   "source": [
    "a,b = 0,1\n",
    "for i in range(5):\n",
    "     print(a)\n",
    "     c = a + b\n",
    "     a = b\n",
    "     b = c\n",
    "    "
   ]
  },
  {
   "cell_type": "code",
   "execution_count": 24,
   "id": "bcc31fa8-7226-4ea9-8252-d8df1c2d3262",
   "metadata": {},
   "outputs": [],
   "source": [
    "s = \"sudh\""
   ]
  },
  {
   "cell_type": "code",
   "execution_count": 25,
   "id": "bc96f0b8-ab0c-4dfd-9bf9-536a7831652b",
   "metadata": {},
   "outputs": [
    {
     "data": {
      "text/plain": [
       "'hdus'"
      ]
     },
     "execution_count": 25,
     "metadata": {},
     "output_type": "execute_result"
    }
   ],
   "source": [
    "s[::-1]"
   ]
  },
  {
   "cell_type": "code",
   "execution_count": 26,
   "id": "a996d32d-357e-4e43-be88-f4bf7f0ef587",
   "metadata": {},
   "outputs": [
    {
     "name": "stdin",
     "output_type": "stream",
     "text": [
      "Enter your string for reversal hi\n"
     ]
    },
    {
     "name": "stdout",
     "output_type": "stream",
     "text": [
      "ih\n"
     ]
    }
   ],
   "source": [
    "word = input(\"Enter your string for reversal\")\n",
    "reverse = \"\"\n",
    "length = len(word)\n",
    "while length > 0:\n",
    "    reverse = reverse + word[length-1]\n",
    "    length = length - 1\n",
    "print(reverse)    "
   ]
  },
  {
   "cell_type": "markdown",
   "id": "23ae8e5c-db27-416d-bcc0-a0ef9fb5fb48",
   "metadata": {},
   "source": [
    "## print table of number"
   ]
  },
  {
   "cell_type": "code",
   "execution_count": 30,
   "id": "9503aa25-6c5b-41ff-b8f1-6576b3afe652",
   "metadata": {},
   "outputs": [
    {
     "name": "stdin",
     "output_type": "stream",
     "text": [
      "enter your number 2\n"
     ]
    },
    {
     "name": "stdout",
     "output_type": "stream",
     "text": [
      "2 * 1 = 2\n",
      "2 * 2 = 4\n",
      "2 * 3 = 6\n",
      "2 * 4 = 8\n",
      "2 * 5 = 10\n",
      "2 * 6 = 12\n",
      "2 * 7 = 14\n",
      "2 * 8 = 16\n",
      "2 * 9 = 18\n",
      "2 * 10 = 20\n"
     ]
    }
   ],
   "source": [
    "n = int(input(\"enter your number\"))\n",
    "i = 1\n",
    "while i <=10:\n",
    "    result = n * i\n",
    "   \n",
    "    print(n,\"*\",i,\"=\",result)\n",
    "    i= i +1"
   ]
  },
  {
   "cell_type": "code",
   "execution_count": 33,
   "id": "04f3122e-07fe-4433-ab99-656b286e745f",
   "metadata": {},
   "outputs": [
    {
     "name": "stdin",
     "output_type": "stream",
     "text": [
      "enter the number 5\n"
     ]
    },
    {
     "name": "stdout",
     "output_type": "stream",
     "text": [
      "5\n",
      "10\n",
      "15\n",
      "20\n",
      "25\n",
      "30\n",
      "35\n",
      "40\n",
      "45\n",
      "50\n"
     ]
    }
   ],
   "source": [
    "n = int (input(\"enter the number\"))\n",
    "for i in range(1,11):\n",
    "     result = n * i\n",
    "   \n",
    "     print(result)\n",
    "   "
   ]
  },
  {
   "cell_type": "code",
   "execution_count": 37,
   "id": "7ee15592-92d1-4b63-ad5b-1294ef25d250",
   "metadata": {},
   "outputs": [
    {
     "name": "stdout",
     "output_type": "stream",
     "text": [
      "1\n",
      "2\n",
      "3\n"
     ]
    }
   ],
   "source": [
    "n = 5\n",
    "i = 1\n",
    "while i < 5:\n",
    "    print(i)\n",
    "    if i == 3:\n",
    "        break\n",
    "    i = i+1\n",
    "else :\n",
    "    print(\"this will execute once your while will complete it successfully\")"
   ]
  },
  {
   "cell_type": "code",
   "execution_count": null,
   "id": "6d64128b-a7c1-4758-9aae-d85314e8d4c0",
   "metadata": {},
   "outputs": [],
   "source": []
  }
 ],
 "metadata": {
  "kernelspec": {
   "display_name": "Python 3 (ipykernel)",
   "language": "python",
   "name": "python3"
  },
  "language_info": {
   "codemirror_mode": {
    "name": "ipython",
    "version": 3
   },
   "file_extension": ".py",
   "mimetype": "text/x-python",
   "name": "python",
   "nbconvert_exporter": "python",
   "pygments_lexer": "ipython3",
   "version": "3.10.8"
  }
 },
 "nbformat": 4,
 "nbformat_minor": 5
}
